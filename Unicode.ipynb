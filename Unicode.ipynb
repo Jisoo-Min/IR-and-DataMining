{
 "cells": [
  {
   "cell_type": "code",
   "execution_count": 250,
   "metadata": {},
   "outputs": [
    {
     "name": "stdout",
     "output_type": "stream",
     "text": [
      "(2, 115, 168)\n",
      "입력된 글자 :  느\n",
      "초성 :  ᄂ 2\n",
      "중성 :  ᅳ 18\n",
      "\n",
      "\n",
      "(2, 103, 194)\n",
      "입력된 글자 :  녚\n",
      "초성 :  ᄂ 2\n",
      "중성 :  ᅧ 6\n",
      "종성 :  ᇁ 26\n",
      "\n",
      "\n",
      "(2, 108, 185)\n",
      "입력된 글자 :  뇝\n",
      "초성 :  ᄂ 2\n",
      "중성 :  ᅬ 11\n",
      "종성 :  ᆸ 17\n",
      "\n",
      "\n",
      "(18, 115, 170)\n",
      "입력된 글자 :  흒\n",
      "초성 :  ᄒ 18\n",
      "중성 :  ᅳ 18\n",
      "종성 :  ᆩ 2\n",
      "\n",
      "\n",
      "(8, 107, 187)\n",
      "입력된 글자 :  뾋\n",
      "초성 :  ᄈ 8\n",
      "중성 :  ᅫ 10\n",
      "종성 :  ᆺ 19\n",
      "\n",
      "\n"
     ]
    }
   ],
   "source": [
    "import random\n",
    "\n",
    "for i in range(5):\n",
    "    #임의의 유니코드 값\n",
    "    #i = (ord(u'각'))\n",
    "    i = random.randrange(0, 11172) % 11172 + 0xAC00\n",
    "    #print(unichr(i))\n",
    "    in_char = (i) - 44032\n",
    "    in_cho = in_char / (21 * 28)\n",
    "    in_jung = (in_char / 28) % 21\n",
    "    in_jong = in_char % 28\n",
    "    #print((in_char + 0xAC00 - 4352))\n",
    "    print((in_cho + 0x1100 - 4352),\n",
    "          (in_jung + 0x1161 - 4352),\n",
    "          (in_jong + 0x11A8- 4352));\n",
    "    print(\"입력된 글자 : \"),\n",
    "    print(unichr(in_char + 0xAC00))\n",
    "    #print(in_char)\n",
    "    print(\"초성 : \"),\n",
    "    print(unichr(in_cho + 0x1100)),\n",
    "    print((in_cho))\n",
    "    print(\"중성 : \"),\n",
    "    print(unichr(in_jung + 0x1161)),\n",
    "    print((in_jung ))\n",
    "    if((in_jong + 0x11A7)!=4519):  #종성이 없는 글자이면 종성을 출력하지 않음\n",
    "        print(\"종성 : \"),\n",
    "        print(unichr(in_jong + 0x11A7)),\n",
    "        print(in_jong)\n",
    "\n",
    "    print(\"\\n\")"
   ]
  },
  {
   "cell_type": "code",
   "execution_count": 263,
   "metadata": {},
   "outputs": [
    {
     "name": "stdout",
     "output_type": "stream",
     "text": [
      "' 홲 ' 을 분리하면 아래와 같이 나옵니다.\n",
      "ᄒ\n",
      "ᅫ\n",
      "ᆩ\n",
      "\n",
      "\n",
      "' 쇟 ' 을 분리하면 아래와 같이 나옵니다.\n",
      "ᄉ\n",
      "ᅫ\n",
      "ᇂ\n",
      "\n",
      "\n",
      "' 뛼 ' 을 분리하면 아래와 같이 나옵니다.\n",
      "ᄄ\n",
      "ᅱ\n",
      "ᆳ\n",
      "\n",
      "\n",
      "' 섐 ' 을 분리하면 아래와 같이 나옵니다.\n",
      "ᄉ\n",
      "ᅤ\n",
      "ᆷ\n",
      "\n",
      "\n",
      "' 톼 ' 을 분리하면 아래와 같이 나옵니다.\n",
      "ᄐ\n",
      "ᅪ\n",
      "\n",
      "\n"
     ]
    }
   ],
   "source": [
    "# 헤더파일은 쥬피터 노트북에서 작업하여 2번에 포함되어있어, 여기엔 작성하지 않았습니다.\n",
    "\n",
    "for i in range(5):\n",
    "    i = random.randrange(0, 11172) % 11172 + 0xAC00\n",
    "    in_char = (i) - 44032\n",
    "    in_cho = in_char / (21 * 28)\n",
    "    in_jung = (in_char / 28) % 21\n",
    "    in_jong = in_char % 28\n",
    "    #print((in_char + 0xAC00), (in_cho + 0x1100), (in_jung + 0x1161), (in_jong + 0x11A7));\n",
    "    print(\"'\"),\n",
    "    print(unichr(in_char + 0xAC00)),\n",
    "    print(\"' 을 분리하면 아래와 같이 나옵니다.\")\n",
    "    print(unichr(in_cho + 0x1100))\n",
    "    print(unichr(in_jung + 0x1161))\n",
    "    if((in_jong + 0x11A7)!=4519):\n",
    "        print(unichr(in_jong + 0x11A7))\n",
    "    print(\"\\n\")\n"
   ]
  },
  {
   "cell_type": "code",
   "execution_count": null,
   "metadata": {
    "collapsed": true
   },
   "outputs": [],
   "source": [
    "\n",
    "int i = u'한'\n",
    "\n",
    "\n",
    "#f = fopen(\"2.txt\", \"w\");\n",
    "\tscanf(\"%d\", &arr);\n",
    "\t// 초`중`종성 분해\n",
    "\tint in_char = i - 0xAC00;\n",
    "\t//in_cho = in_char / (21 * 28);\n",
    "\tint in_cho = in_char / (21 * 28);\n",
    "\t//in_jung = (in_char / 28) % 21;\n",
    "\tint in_jung = (in_char / 28) % 21;\n",
    "\t//in_jong = in_char % 28;\n",
    "\tint in_jong = in_char % 28; \n",
    " \n",
    " \tprintf(\"%d\\n\" , in_char);\n",
    " \tprintf(\"%d\\n\", in_cho+0x1100);\n",
    " \tprintf(\"%d\\n\", in_jung+0x1161);\n",
    " \tprintf(\"%d\\n\", in_jong+0x11A7);\n",
    "\t// 초`중`종성 print\n",
    "\n",
    "    char t2 = (char)in_cho + 0x1100;\n",
    "    arr = (char)\n",
    " \tfprintf(f,  \"\\t%s%s%s\\n : \", in_char + 0xAC00, in_cho + 0x1100, in_jung + 0x1161);\n",
    "\n",
    "\tfprintf(f,  \"\\t%s%s%s%s\\n : \", in_char + 0xAC00, in_cho + 0x1100, in_jung + 0x1161, in_jong + 0x11A8);\n",
    "    \n",
    "\n",
    " \n",
    "\tfclose(f);\n"
   ]
  },
  {
   "cell_type": "code",
   "execution_count": 269,
   "metadata": {},
   "outputs": [
    {
     "name": "stdout",
     "output_type": "stream",
     "text": [
      "ì\n"
     ]
    }
   ],
   "source": [
    "from konlpy.utils import pprint\n",
    "print(u'\\xec')"
   ]
  },
  {
   "cell_type": "code",
   "execution_count": null,
   "metadata": {
    "collapsed": true
   },
   "outputs": [],
   "source": []
  }
 ],
 "metadata": {
  "kernelspec": {
   "display_name": "Python 2",
   "language": "python",
   "name": "python2"
  },
  "language_info": {
   "codemirror_mode": {
    "name": "ipython",
    "version": 2
   },
   "file_extension": ".py",
   "mimetype": "text/x-python",
   "name": "python",
   "nbconvert_exporter": "python",
   "pygments_lexer": "ipython2",
   "version": "2.7.12"
  }
 },
 "nbformat": 4,
 "nbformat_minor": 2
}
